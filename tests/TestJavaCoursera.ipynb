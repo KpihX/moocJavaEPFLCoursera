{
 "cells": [
  {
   "cell_type": "markdown",
   "metadata": {},
   "source": [
    "# TestsJavaCoursera\n",
    "\n",
    "```java\n",
    "//import java.util.Scanner;\n",
    "\n",
    "public class Tests {\n",
    "  public static void main() {\n",
    "    //Scanner scanner = new Scanner(System.in);\n",
    "\n",
    "    //System.out.println(\"Hey!\");\n",
    "  }\n",
    "}\n",
    "\n",
    "Tests.main();\n",
    "```"
   ]
  },
  {
   "cell_type": "markdown",
   "metadata": {},
   "source": [
    "## TestRandom"
   ]
  },
  {
   "cell_type": "code",
   "execution_count": 1,
   "metadata": {},
   "outputs": [
    {
     "name": "stdout",
     "output_type": "stream",
     "text": [
      "8\n"
     ]
    }
   ],
   "source": [
    "class Utils {\n",
    "\n",
    "    private static final Random RANDOM = new Random();\n",
    "\n",
    "    // NE PAS UTILISER CETTE METHODE DANS LES PARTIES A COMPLETER\n",
    "    public static void setSeed(long seed) {\n",
    "        RANDOM.setSeed(seed);\n",
    "    }\n",
    "\n",
    "    // génère un entier entre 0 et max (max non compris)\n",
    "    public static int randomInt(int max) {\n",
    "        return RANDOM.nextInt(max);\n",
    "    }\n",
    "}\n",
    "\n",
    "public class Tests {\n",
    "    public static void main() {\n",
    "        Utils.setSeed(20000);\n",
    "        System.out.println(Utils.randomInt(17));\n",
    "    }\n",
    "  }\n",
    "  \n",
    "Tests.main();"
   ]
  },
  {
   "cell_type": "markdown",
   "metadata": {},
   "source": [
    "## TestRedéfinitionEquals"
   ]
  },
  {
   "cell_type": "code",
   "execution_count": 26,
   "metadata": {},
   "outputs": [
    {
     "name": "stdout",
     "output_type": "stream",
     "text": [
      "Surface du rectangle : 50.0\n",
      "Périmètre du rectangle : 30.0\n",
      "Les deux rectangles sont-ils égaux : true\n"
     ]
    }
   ],
   "source": [
    "//import java.util.Scanner;\n",
    "\n",
    "abstract class Quadrilatere {\n",
    "    public abstract double surface();\n",
    "    public abstract double perimetre();\n",
    "}\n",
    "\n",
    "class Rectangle extends Quadrilatere {\n",
    "    private double lon, lar;\n",
    "\n",
    "    public Rectangle (double lon, double lar) {\n",
    "        this.lon = lon;\n",
    "        this.lar = lar;\n",
    "    }\n",
    "\n",
    "    public double surface() {\n",
    "        return lon * lar;\n",
    "    }\n",
    "\n",
    "    public double perimetre() {\n",
    "        return (lon + lar)*2;\n",
    "    }\n",
    "\n",
    "    @Override\n",
    "    public boolean equals(Object object) {\n",
    "        if (object == null) {\n",
    "            return false;\n",
    "        } else {\n",
    "            if (object.getClass() != getClass()) {\n",
    "                return false;\n",
    "            } else {\n",
    "                Rectangle r = (Rectangle)object;\n",
    "                return lar == r.lar && lon == r.lon;\n",
    "            }\n",
    "        }\n",
    "    }\n",
    "}\n",
    "\n",
    "public class Tests {\n",
    "    public static void main() {\n",
    "        Rectangle rectangle = new Rectangle(5, 10);\n",
    "\n",
    "        System.out.println(\"Surface du rectangle : \" + rectangle.surface());\n",
    "        System.out.println(\"Périmètre du rectangle : \" + rectangle.perimetre());\n",
    "\n",
    "        Rectangle autreRectangle = new Rectangle(5, 10);\n",
    "        System.out.println(\"Les deux rectangles sont-ils égaux : \" + rectangle.equals(autreRectangle));\n",
    "    }\n",
    "  }\n",
    "  \n",
    "  Tests.main();"
   ]
  },
  {
   "cell_type": "markdown",
   "metadata": {},
   "source": [
    "## TestMétadonneées"
   ]
  },
  {
   "cell_type": "code",
   "execution_count": 27,
   "metadata": {},
   "outputs": [
    {
     "name": "stdout",
     "output_type": "stream",
     "text": [
      "true\n",
      "true\n",
      "true\n",
      "true\n",
      "Le type de chien1 est : REPL.$JShell$29$Chien\n",
      "Le type de chien2 est : REPL.$JShell$29$Chien\n"
     ]
    }
   ],
   "source": [
    "import java.util.Scanner;\n",
    "\n",
    "class Animal {\n",
    "    private String nom;\n",
    "\n",
    "    public Animal(String nom) {\n",
    "        this.nom = nom;\n",
    "    }\n",
    "}\n",
    "\n",
    "class Chien extends Animal {\n",
    "    public Chien(String nom) {\n",
    "        super(nom);\n",
    "    }\n",
    "}\n",
    "\n",
    "public class Tests {\n",
    "    public static void main() {\n",
    "        Chien chien1 = new Chien(\"c1\");\n",
    "        Animal chien2 = new Chien(\"c2\");\n",
    "\n",
    "        System.out.println(chien1 instanceof Chien);\n",
    "        System.out.println(chien2 instanceof Chien);\n",
    "        System.out.println(chien1 instanceof Animal);\n",
    "        System.out.println(chien2 instanceof Animal);\n",
    "\n",
    "        Class<?> classe1 = chien1.getClass();\n",
    "        System.out.println(\"Le type de chien1 est : \" + classe1.getName());\n",
    "        Class<?> classe2 = chien2.getClass();\n",
    "        System.out.println(\"Le type de chien2 est : \" + classe2.getName());\n",
    "    }\n",
    "  }\n",
    "  \n",
    "  Tests.main();"
   ]
  },
  {
   "cell_type": "markdown",
   "metadata": {},
   "source": [
    "## TestRectangle"
   ]
  },
  {
   "cell_type": "code",
   "execution_count": 29,
   "metadata": {},
   "outputs": [
    {
     "name": "stdout",
     "output_type": "stream",
     "text": [
      "r1 : hauteur = 10.0, largeur = 2.0\n",
      "r2 == r3 ? : true\n",
      "r2 == r3 ? : false\n",
      "r2 : hauteur = 2.0, largeur = 3.0\n",
      "r3 : hauteur = 4.0, largeur = 3.0\n",
      "r4 : hauteur = 5.0, largeur = 3.0\n"
     ]
    }
   ],
   "source": [
    "class Rectangle implements Cloneable{\n",
    "  private double hauteur = 1.0;\n",
    "  private double largeur = 2.0;\n",
    "\n",
    "  public Rectangle(double h, double l) {\n",
    "    hauteur = h;\n",
    "    largeur = l;\n",
    "  }\n",
    "\n",
    "  public Rectangle(Rectangle r) { // Constructeur de copie\n",
    "    hauteur = r.hauteur;\n",
    "    largeur = r.largeur;\n",
    "  }\n",
    "\n",
    "  public Rectangle() { \n",
    "    this(0, 0); // Cet appel d'un constructeur dans un autre, doit être la première instruction.\n",
    "  }\n",
    "\n",
    "  double surface() {\n",
    "    return hauteur*largeur;\n",
    "  }\n",
    "\n",
    "  public void setHauteur(double hauteur) {\n",
    "    this.hauteur = hauteur;\n",
    "  }\n",
    "\n",
    "  public void printHauteur() {\n",
    "    System.out.println(hauteur);\n",
    "  }\n",
    "\n",
    "  @Override\n",
    "  public String toString() {\n",
    "    return \"hauteur = \" + hauteur + \", largeur = \" + largeur;\n",
    "  }\n",
    "\n",
    "  @Override\n",
    "  public Rectangle clone() throws CloneNotSupportedException{\n",
    "    return (Rectangle) super.clone();\n",
    "  }\n",
    "\n",
    "  public boolean equals(Rectangle r) {\n",
    "    if (r == null) {\n",
    "      return false;\n",
    "    }\n",
    "    return hauteur == r.hauteur && largeur == r.largeur;\n",
    "  }\n",
    "}\n",
    "\n",
    "public class Tests {\n",
    "  public static void main() throws CloneNotSupportedException {\n",
    "    Rectangle r1 = new Rectangle();\n",
    "    r1 = new Rectangle(10, 2);\n",
    "    System.out.println(\"r1 : \" + r1);\n",
    "    /*r1.setHauteur(150);\n",
    "    r1.printHauteur();\n",
    "    System.out.println(r1.hauteur + \" \" + r1.surface());*/\n",
    "\n",
    "    Rectangle r2 = new Rectangle(2.0, 3.0);\n",
    "    Rectangle r3 = new Rectangle(r2);\n",
    "    Rectangle r4 = r2.clone();\n",
    "    System.out.println(\"r2 == r3 ? : \" + r2.equals(r4));\n",
    "    r3.setHauteur(4.0);\n",
    "    System.out.println(\"r2 == r3 ? : \" + r2.equals(r3));\n",
    "    r4.setHauteur(5.0);\n",
    "    System.out.println(\"r2 : \" + r2);\n",
    "    System.out.println(\"r3 : \" + r3);\n",
    "    System.out.println(\"r4 : \" + r4);\n",
    "\n",
    "  }\n",
    "}\n",
    "\n",
    "Tests.main();"
   ]
  },
  {
   "cell_type": "markdown",
   "metadata": {},
   "source": [
    "## JeuMorpion"
   ]
  },
  {
   "cell_type": "code",
   "execution_count": null,
   "metadata": {},
   "outputs": [],
   "source": [
    "class JeuMorpion {\n",
    "  private final static int VIDE = 0;\n",
    "  private final static int ROND = 1;\n",
    "  private final static int CROIX = 2;\n",
    "\n",
    "  private int[][] grille;\n",
    "\n",
    "  public initialise() {\n",
    "    grille = new int[3][3];\n",
    "    for (int i=0; i < grille.length; i++) {\n",
    "      for (int k=0; j < grille[i].length; i++) {\n",
    "        grille[i][j] = VIDE;\n",
    "      }\n",
    "    }\n",
    "  }\n",
    "\n",
    "  /**\n",
    "   * Place un coup sur le plateau\n",
    "   * @param ligne La ligne 0, 1, ou 2\n",
    "   * @param colonne La colonne 0, 1, ou 2\n",
    "   * @param coup Le coup à placer\n",
    "   */\n",
    "  private boolean placerCoup(int ligne, int colonne, int coup) {\n",
    "    if (ligne < 0 || ligne > grille.length || colonne < 0 || colonne > grille[ligne].length) {\n",
    "      // traitement de l'erreur\n",
    "    }\n",
    "    if (grille[ligne][colonne] == VIDE) {\n",
    "      // case vide,on peut placer le coup\n",
    "      grille[ligne][colonne] = coup;\n",
    "      return true;\n",
    "    } else {\n",
    "      //case déjà prise, on signale une erreur\n",
    "      return false;\n",
    "    } // suite\n",
    "\n",
    "    public boolean placerRond(int ligne, int colonne, int coup) {\n",
    "      return placerCoup(int ligne, int colonne, ROND);\n",
    "    }\n",
    "\n",
    "    public boolean placerCroix(int ligne, int colonne, int coup) {\n",
    "      return placerCoup(int ligne, int colonne, CROIX);\n",
    "    }\n",
    "\n",
    "    // ici on peut rajouter une méthode getJoueurGagnant()\n",
    "  }\n",
    "}"
   ]
  },
  {
   "cell_type": "code",
   "execution_count": null,
   "metadata": {},
   "outputs": [],
   "source": [
    "//import java.util.Scanner;\n",
    "\n",
    "public class TestJeuMorpion {\n",
    "  public static void main() {\n",
    "    //Scanner sc = new Scanner(System.in);\n",
    "    JeuMorpion jeu = new JeuMorpion();\n",
    "    jeu.initialise();\n",
    "    boolean valide = jeu.placerRond(0, 0); //boolean déclaré plus haut\n",
    "  }\n",
    "}\n",
    "\n",
    "Tests.main();"
   ]
  }
 ],
 "metadata": {
  "kernelspec": {
   "display_name": "Java",
   "language": "java",
   "name": "java"
  },
  "language_info": {
   "codemirror_mode": "java",
   "file_extension": ".jshell",
   "mimetype": "text/x-java-source",
   "name": "java",
   "pygments_lexer": "java",
   "version": "11.0.20.1+1-post-Ubuntu-0ubuntu122.04"
  }
 },
 "nbformat": 4,
 "nbformat_minor": 2
}
